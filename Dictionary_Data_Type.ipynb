{
 "cells": [
  {
   "cell_type": "code",
   "execution_count": 6,
   "id": "63fc73c1",
   "metadata": {},
   "outputs": [],
   "source": [
    "#in dictionary data is available in Key:Value\n",
    "\n",
    "#the keys are immutable and  buts values are mutable"
   ]
  },
  {
   "cell_type": "code",
   "execution_count": 7,
   "id": "01ed6bf5",
   "metadata": {},
   "outputs": [],
   "source": [
    "d2={10:\"Apple\",20:\"Mango\",30:\"Kiwi\",40:\"Sberry\"}"
   ]
  },
  {
   "cell_type": "code",
   "execution_count": 8,
   "id": "1882283d",
   "metadata": {},
   "outputs": [
    {
     "data": {
      "text/plain": [
       "'Apple'"
      ]
     },
     "execution_count": 8,
     "metadata": {},
     "output_type": "execute_result"
    }
   ],
   "source": [
    "d2[10]"
   ]
  },
  {
   "cell_type": "code",
   "execution_count": 9,
   "id": "45512503",
   "metadata": {},
   "outputs": [],
   "source": [
    "d2[10]=\"Banana\""
   ]
  },
  {
   "cell_type": "code",
   "execution_count": 10,
   "id": "b9a60276",
   "metadata": {},
   "outputs": [
    {
     "data": {
      "text/plain": [
       "{10: 'Banana', 20: 'Mango', 30: 'Kiwi', 40: 'Sberry'}"
      ]
     },
     "execution_count": 10,
     "metadata": {},
     "output_type": "execute_result"
    }
   ],
   "source": [
    "d2"
   ]
  },
  {
   "cell_type": "code",
   "execution_count": 12,
   "id": "90704862",
   "metadata": {},
   "outputs": [
    {
     "name": "stdout",
     "output_type": "stream",
     "text": [
      "{}\n"
     ]
    }
   ],
   "source": [
    "#clear \n",
    "d2={10:\"Apple\",20:\"Mango\",30:\"Kiwi\",40:\"Sberry\"}\n",
    "d2.clear()\n",
    "print(d2)"
   ]
  },
  {
   "cell_type": "code",
   "execution_count": 14,
   "id": "217f7aca",
   "metadata": {},
   "outputs": [
    {
     "name": "stdout",
     "output_type": "stream",
     "text": [
      "{20: 'Mango', 30: 'Kiwi', 40: 'Sberry'}\n"
     ]
    }
   ],
   "source": [
    "d2={10:\"Apple\",20:\"Mango\",30:\"Kiwi\",40:\"Sberry\"}\n",
    "d2.pop(10)\n",
    "print(d2)"
   ]
  },
  {
   "cell_type": "code",
   "execution_count": 15,
   "id": "392fbf10",
   "metadata": {},
   "outputs": [],
   "source": [
    "# if we give the incorrect key then we will get key error"
   ]
  },
  {
   "cell_type": "code",
   "execution_count": 16,
   "id": "81bd02ec",
   "metadata": {},
   "outputs": [
    {
     "name": "stdout",
     "output_type": "stream",
     "text": [
      "{10: 'Apple', 20: 'Mango', 30: 'Kiwi'}\n"
     ]
    }
   ],
   "source": [
    "d2={10:\"Apple\",20:\"Mango\",30:\"Kiwi\",40:\"Sberry\"}\n",
    "d2.popitem()\n",
    "print(d2)"
   ]
  },
  {
   "cell_type": "code",
   "execution_count": 17,
   "id": "400e9611",
   "metadata": {},
   "outputs": [],
   "source": [
    "#pop item by default it removes the last key and values"
   ]
  },
  {
   "cell_type": "code",
   "execution_count": 18,
   "id": "c1660c94",
   "metadata": {},
   "outputs": [],
   "source": [
    "#we can do copy opeartions"
   ]
  },
  {
   "cell_type": "code",
   "execution_count": 20,
   "id": "3cad6e4f",
   "metadata": {},
   "outputs": [
    {
     "name": "stdout",
     "output_type": "stream",
     "text": [
      "Apple\n"
     ]
    }
   ],
   "source": [
    "#get(keys)\n",
    "d2={10:\"Apple\",20:\"Mango\",30:\"Kiwi\",40:\"Sberry\"}\n",
    "\n",
    "print(d2.get(10))"
   ]
  },
  {
   "cell_type": "code",
   "execution_count": 21,
   "id": "acb9a8b2",
   "metadata": {},
   "outputs": [
    {
     "name": "stdout",
     "output_type": "stream",
     "text": [
      "Rossum\n",
      "Gosling\n",
      "Ritche\n"
     ]
    }
   ],
   "source": [
    "d1={100:\"Rossum\",101:\"Gosling\",102:\"Ritche\"}\n",
    "\n",
    "for val in d1.values():\n",
    "    print(val)"
   ]
  },
  {
   "cell_type": "code",
   "execution_count": 22,
   "id": "77c498ec",
   "metadata": {},
   "outputs": [
    {
     "name": "stdout",
     "output_type": "stream",
     "text": [
      "100\n",
      "101\n",
      "102\n"
     ]
    }
   ],
   "source": [
    "d1={100:\"Rossum\",101:\"Gosling\",102:\"Ritche\"}\n",
    "\n",
    "for val in d1.keys():\n",
    "    print(val)"
   ]
  },
  {
   "cell_type": "code",
   "execution_count": 23,
   "id": "c4d17dd5",
   "metadata": {},
   "outputs": [
    {
     "name": "stdout",
     "output_type": "stream",
     "text": [
      "(100, 'Rossum')\n",
      "(101, 'Gosling')\n",
      "(102, 'Ritche')\n"
     ]
    }
   ],
   "source": [
    "d1={100:\"Rossum\",101:\"Gosling\",102:\"Ritche\"}\n",
    "\n",
    "for val in d1.items():\n",
    "    print(val)"
   ]
  },
  {
   "cell_type": "code",
   "execution_count": 24,
   "id": "9ffb70c8",
   "metadata": {},
   "outputs": [
    {
     "name": "stdout",
     "output_type": "stream",
     "text": [
      "100 ==== Rossum\n",
      "101 ==== Gosling\n",
      "102 ==== Ritche\n"
     ]
    }
   ],
   "source": [
    "d1={100:\"Rossum\",101:\"Gosling\",102:\"Ritche\"}\n",
    "\n",
    "for k,v in d1.items():\n",
    "    print(k,\"====\",v)"
   ]
  },
  {
   "cell_type": "code",
   "execution_count": null,
   "id": "8b9ed6b4",
   "metadata": {},
   "outputs": [],
   "source": []
  }
 ],
 "metadata": {
  "kernelspec": {
   "display_name": "Python 3 (ipykernel)",
   "language": "python",
   "name": "python3"
  },
  "language_info": {
   "codemirror_mode": {
    "name": "ipython",
    "version": 3
   },
   "file_extension": ".py",
   "mimetype": "text/x-python",
   "name": "python",
   "nbconvert_exporter": "python",
   "pygments_lexer": "ipython3",
   "version": "3.9.12"
  }
 },
 "nbformat": 4,
 "nbformat_minor": 5
}
