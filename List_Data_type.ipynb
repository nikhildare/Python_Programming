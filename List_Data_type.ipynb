{
 "cells": [
  {
   "cell_type": "code",
   "execution_count": 1,
   "id": "9afce614",
   "metadata": {},
   "outputs": [],
   "source": [
    "#List Category Data Types"
   ]
  },
  {
   "cell_type": "code",
   "execution_count": 2,
   "id": "24702a40",
   "metadata": {},
   "outputs": [],
   "source": [
    "#List\n",
    "#Tuple\n",
    "\n",
    "#List is the data where its mutable indexing and slicing us allowed\n",
    "\n",
    "#Tuples is the data type is immutable indexing and slicing is not allowed\n",
    "\n",
    "\n",
    "\n",
    "\n"
   ]
  },
  {
   "cell_type": "code",
   "execution_count": 4,
   "id": "b48813fc",
   "metadata": {},
   "outputs": [],
   "source": [
    "# correct conversion of tuple class is "
   ]
  },
  {
   "cell_type": "code",
   "execution_count": 5,
   "id": "5515dfa1",
   "metadata": {},
   "outputs": [],
   "source": [
    "a=[10,20,30,40]"
   ]
  },
  {
   "cell_type": "code",
   "execution_count": 6,
   "id": "c3ef09c5",
   "metadata": {},
   "outputs": [
    {
     "name": "stdout",
     "output_type": "stream",
     "text": [
      "[10, 20, 30, 40] <class 'list'>\n"
     ]
    }
   ],
   "source": [
    "print(a,type(a))"
   ]
  },
  {
   "cell_type": "code",
   "execution_count": 7,
   "id": "b25a850f",
   "metadata": {},
   "outputs": [],
   "source": [
    "t=tuple(a)"
   ]
  },
  {
   "cell_type": "code",
   "execution_count": 8,
   "id": "d2baeb63",
   "metadata": {},
   "outputs": [
    {
     "name": "stdout",
     "output_type": "stream",
     "text": [
      "(10, 20, 30, 40) <class 'tuple'>\n"
     ]
    }
   ],
   "source": [
    "print(t,type(t))"
   ]
  },
  {
   "cell_type": "code",
   "execution_count": 9,
   "id": "c0b09dce",
   "metadata": {},
   "outputs": [],
   "source": [
    "a=10"
   ]
  },
  {
   "cell_type": "code",
   "execution_count": 10,
   "id": "d489246b",
   "metadata": {},
   "outputs": [
    {
     "ename": "TypeError",
     "evalue": "'int' object is not iterable",
     "output_type": "error",
     "traceback": [
      "\u001b[1;31m---------------------------------------------------------------------------\u001b[0m",
      "\u001b[1;31mTypeError\u001b[0m                                 Traceback (most recent call last)",
      "Input \u001b[1;32mIn [10]\u001b[0m, in \u001b[0;36m<cell line: 1>\u001b[1;34m()\u001b[0m\n\u001b[1;32m----> 1\u001b[0m t\u001b[38;5;241m=\u001b[39m\u001b[38;5;28;43mtuple\u001b[39;49m\u001b[43m(\u001b[49m\u001b[43ma\u001b[49m\u001b[43m)\u001b[49m\n",
      "\u001b[1;31mTypeError\u001b[0m: 'int' object is not iterable"
     ]
    }
   ],
   "source": [
    "t=tuple(a)"
   ]
  },
  {
   "cell_type": "code",
   "execution_count": 11,
   "id": "cd3fa488",
   "metadata": {},
   "outputs": [
    {
     "ename": "TypeError",
     "evalue": "'int' object is not iterable",
     "output_type": "error",
     "traceback": [
      "\u001b[1;31m---------------------------------------------------------------------------\u001b[0m",
      "\u001b[1;31mTypeError\u001b[0m                                 Traceback (most recent call last)",
      "Input \u001b[1;32mIn [11]\u001b[0m, in \u001b[0;36m<cell line: 1>\u001b[1;34m()\u001b[0m\n\u001b[1;32m----> 1\u001b[0m t\u001b[38;5;241m=\u001b[39m\u001b[38;5;28;43mtuple\u001b[39;49m\u001b[43m(\u001b[49m\u001b[43ma\u001b[49m\u001b[43m,\u001b[49m\u001b[43m)\u001b[49m\n",
      "\u001b[1;31mTypeError\u001b[0m: 'int' object is not iterable"
     ]
    }
   ],
   "source": [
    "t=tuple(a,)"
   ]
  },
  {
   "cell_type": "code",
   "execution_count": 15,
   "id": "ca79a45b",
   "metadata": {},
   "outputs": [
    {
     "ename": "TypeError",
     "evalue": "'int' object is not iterable",
     "output_type": "error",
     "traceback": [
      "\u001b[1;31m---------------------------------------------------------------------------\u001b[0m",
      "\u001b[1;31mTypeError\u001b[0m                                 Traceback (most recent call last)",
      "Input \u001b[1;32mIn [15]\u001b[0m, in \u001b[0;36m<cell line: 1>\u001b[1;34m()\u001b[0m\n\u001b[1;32m----> 1\u001b[0m t\u001b[38;5;241m=\u001b[39m\u001b[38;5;28;43mtuple\u001b[39;49m\u001b[43m(\u001b[49m\u001b[43ma\u001b[49m\u001b[43m,\u001b[49m\u001b[43m \u001b[49m\u001b[43m)\u001b[49m\n",
      "\u001b[1;31mTypeError\u001b[0m: 'int' object is not iterable"
     ]
    }
   ],
   "source": [
    "t=tuple(a, )"
   ]
  },
  {
   "cell_type": "code",
   "execution_count": 16,
   "id": "dc313520",
   "metadata": {},
   "outputs": [],
   "source": [
    "t=(a, )"
   ]
  },
  {
   "cell_type": "code",
   "execution_count": 17,
   "id": "79dd03b3",
   "metadata": {},
   "outputs": [
    {
     "name": "stdout",
     "output_type": "stream",
     "text": [
      "(10,) <class 'tuple'>\n"
     ]
    }
   ],
   "source": [
    "print(t,type(t))"
   ]
  },
  {
   "cell_type": "code",
   "execution_count": 18,
   "id": "74aca9d1",
   "metadata": {},
   "outputs": [],
   "source": [
    "# for correct conversion of tuple of a=10 then t=(a, )"
   ]
  },
  {
   "cell_type": "code",
   "execution_count": 19,
   "id": "9f8b70e4",
   "metadata": {},
   "outputs": [],
   "source": [
    "# in the list data type we can have tuple inside and inside tuple there can be a list as well"
   ]
  },
  {
   "cell_type": "code",
   "execution_count": 20,
   "id": "9b1015b2",
   "metadata": {},
   "outputs": [],
   "source": [
    "a=[10,20,30,[10,20,40],(10,20,30)]"
   ]
  },
  {
   "cell_type": "code",
   "execution_count": 21,
   "id": "0d0f24ee",
   "metadata": {},
   "outputs": [
    {
     "name": "stdout",
     "output_type": "stream",
     "text": [
      "[10, 20, 30, [10, 20, 40], (10, 20, 30)] <class 'list'>\n"
     ]
    }
   ],
   "source": [
    "print(a,type(a))"
   ]
  },
  {
   "cell_type": "code",
   "execution_count": 22,
   "id": "8bd02319",
   "metadata": {},
   "outputs": [
    {
     "data": {
      "text/plain": [
       "[40, 20, 10]"
      ]
     },
     "execution_count": 22,
     "metadata": {},
     "output_type": "execute_result"
    }
   ],
   "source": [
    "a[3][::-1]"
   ]
  },
  {
   "cell_type": "code",
   "execution_count": 23,
   "id": "0a4dbf10",
   "metadata": {},
   "outputs": [
    {
     "ename": "TypeError",
     "evalue": "'<' not supported between instances of 'list' and 'tuple'",
     "output_type": "error",
     "traceback": [
      "\u001b[1;31m---------------------------------------------------------------------------\u001b[0m",
      "\u001b[1;31mTypeError\u001b[0m                                 Traceback (most recent call last)",
      "Input \u001b[1;32mIn [23]\u001b[0m, in \u001b[0;36m<cell line: 1>\u001b[1;34m()\u001b[0m\n\u001b[1;32m----> 1\u001b[0m \u001b[43ma\u001b[49m\u001b[38;5;241;43m.\u001b[39;49m\u001b[43msort\u001b[49m\u001b[43m(\u001b[49m\u001b[43mreverse\u001b[49m\u001b[38;5;241;43m=\u001b[39;49m\u001b[38;5;28;43;01mTrue\u001b[39;49;00m\u001b[43m)\u001b[49m\n",
      "\u001b[1;31mTypeError\u001b[0m: '<' not supported between instances of 'list' and 'tuple'"
     ]
    }
   ],
   "source": [
    "a.sort(reverse=True)"
   ]
  },
  {
   "cell_type": "code",
   "execution_count": 24,
   "id": "d4d209fe",
   "metadata": {},
   "outputs": [],
   "source": [
    "#sort is not applicable not for the mixed list types its"
   ]
  },
  {
   "cell_type": "code",
   "execution_count": 25,
   "id": "577147ad",
   "metadata": {},
   "outputs": [],
   "source": [
    "a=[10,30,20,5,3,2]"
   ]
  },
  {
   "cell_type": "code",
   "execution_count": 26,
   "id": "65b5748a",
   "metadata": {},
   "outputs": [],
   "source": [
    "a.sort()"
   ]
  },
  {
   "cell_type": "code",
   "execution_count": 27,
   "id": "c1b3e3af",
   "metadata": {},
   "outputs": [
    {
     "name": "stdout",
     "output_type": "stream",
     "text": [
      "[2, 3, 5, 10, 20, 30]\n"
     ]
    }
   ],
   "source": [
    "print(a)"
   ]
  },
  {
   "cell_type": "code",
   "execution_count": 28,
   "id": "6035aa28",
   "metadata": {},
   "outputs": [],
   "source": [
    "a.sort(reverse=True)"
   ]
  },
  {
   "cell_type": "code",
   "execution_count": 29,
   "id": "78f84da3",
   "metadata": {},
   "outputs": [
    {
     "name": "stdout",
     "output_type": "stream",
     "text": [
      "[30, 20, 10, 5, 3, 2]\n"
     ]
    }
   ],
   "source": [
    "print(a)"
   ]
  },
  {
   "cell_type": "code",
   "execution_count": 30,
   "id": "a8ec6b83",
   "metadata": {},
   "outputs": [],
   "source": [
    "a.sort(reverse=False)"
   ]
  },
  {
   "cell_type": "code",
   "execution_count": 31,
   "id": "f8a56907",
   "metadata": {},
   "outputs": [
    {
     "name": "stdout",
     "output_type": "stream",
     "text": [
      "[2, 3, 5, 10, 20, 30]\n"
     ]
    }
   ],
   "source": [
    "print(a)"
   ]
  },
  {
   "cell_type": "code",
   "execution_count": 32,
   "id": "3bb7c570",
   "metadata": {},
   "outputs": [],
   "source": [
    "# by default reverse is False it print asending order or increasing order\n",
    "#if reverse is false then it will get descending order decreasing order"
   ]
  },
  {
   "cell_type": "code",
   "execution_count": 33,
   "id": "83e2b11b",
   "metadata": {},
   "outputs": [],
   "source": [
    "a.insert(1,100)"
   ]
  },
  {
   "cell_type": "code",
   "execution_count": 34,
   "id": "650c127e",
   "metadata": {},
   "outputs": [
    {
     "name": "stdout",
     "output_type": "stream",
     "text": [
      "[2, 100, 3, 5, 10, 20, 30]\n"
     ]
    }
   ],
   "source": [
    "print(a)"
   ]
  },
  {
   "cell_type": "code",
   "execution_count": 35,
   "id": "a38a789e",
   "metadata": {},
   "outputs": [],
   "source": [
    "#for the tuples only the count and index functions are working"
   ]
  },
  {
   "cell_type": "code",
   "execution_count": 36,
   "id": "8b3c0f4a",
   "metadata": {},
   "outputs": [],
   "source": [
    "a=(10,20,30,40)"
   ]
  },
  {
   "cell_type": "code",
   "execution_count": 38,
   "id": "a1d74a7c",
   "metadata": {},
   "outputs": [
    {
     "name": "stdout",
     "output_type": "stream",
     "text": [
      "1 <class 'int'>\n"
     ]
    }
   ],
   "source": [
    "b=a.count(10)\n",
    "print(b,type(b))"
   ]
  },
  {
   "cell_type": "code",
   "execution_count": 40,
   "id": "ef1a3a47",
   "metadata": {},
   "outputs": [
    {
     "name": "stdout",
     "output_type": "stream",
     "text": [
      "0 <class 'int'>\n"
     ]
    }
   ],
   "source": [
    "c=a.index(10)\n",
    "print(c,type(c))"
   ]
  },
  {
   "cell_type": "code",
   "execution_count": 41,
   "id": "4af58464",
   "metadata": {},
   "outputs": [],
   "source": [
    "# various functions for the list"
   ]
  },
  {
   "cell_type": "code",
   "execution_count": 42,
   "id": "b2e4c6ae",
   "metadata": {},
   "outputs": [],
   "source": [
    "#append\n",
    "#sort\n",
    "#pop(remove the last element)\n",
    "#pop(index)\n",
    "#clear()\n",
    "#extend()\n",
    "#reverse\n",
    "#copy"
   ]
  },
  {
   "cell_type": "code",
   "execution_count": 43,
   "id": "e48a28b1",
   "metadata": {},
   "outputs": [],
   "source": [
    "l1=[10,20,30]"
   ]
  },
  {
   "cell_type": "code",
   "execution_count": 44,
   "id": "b2d649f5",
   "metadata": {},
   "outputs": [],
   "source": [
    "l2=l1   #deep copy"
   ]
  },
  {
   "cell_type": "code",
   "execution_count": 45,
   "id": "d8ad75f0",
   "metadata": {},
   "outputs": [],
   "source": [
    "l2=l1.copy()"
   ]
  },
  {
   "cell_type": "code",
   "execution_count": 48,
   "id": "364b8288",
   "metadata": {},
   "outputs": [
    {
     "name": "stdout",
     "output_type": "stream",
     "text": [
      "[10, 20, 30] <class 'list'> 2142542371520\n"
     ]
    }
   ],
   "source": [
    "print(l1,type(l1),id(l1))"
   ]
  },
  {
   "cell_type": "code",
   "execution_count": 49,
   "id": "ff382fd2",
   "metadata": {},
   "outputs": [
    {
     "name": "stdout",
     "output_type": "stream",
     "text": [
      "[10, 20, 30] <class 'list'> 2142542208320\n"
     ]
    }
   ],
   "source": [
    "print(l2,type(l2),id(l2))"
   ]
  },
  {
   "cell_type": "code",
   "execution_count": 50,
   "id": "c929c983",
   "metadata": {},
   "outputs": [],
   "source": [
    "a=[10,20]"
   ]
  },
  {
   "cell_type": "code",
   "execution_count": 51,
   "id": "844355f3",
   "metadata": {},
   "outputs": [
    {
     "name": "stdout",
     "output_type": "stream",
     "text": [
      "[10, 20]\n"
     ]
    }
   ],
   "source": [
    "b=a.copy()\n",
    "print(b)"
   ]
  },
  {
   "cell_type": "code",
   "execution_count": 52,
   "id": "22b92df0",
   "metadata": {},
   "outputs": [
    {
     "name": "stdout",
     "output_type": "stream",
     "text": [
      "[10, 20] <class 'list'> 2142541430848\n",
      "[10, 20] <class 'list'> 2142542052992\n"
     ]
    }
   ],
   "source": [
    "print(a,type(a),id(a))\n",
    "print(b,type(a),id(b))"
   ]
  },
  {
   "cell_type": "code",
   "execution_count": 53,
   "id": "bb974891",
   "metadata": {},
   "outputs": [],
   "source": [
    "# this called shallow copy"
   ]
  },
  {
   "cell_type": "code",
   "execution_count": 54,
   "id": "72755f68",
   "metadata": {},
   "outputs": [],
   "source": [
    "#count\n",
    "#index"
   ]
  },
  {
   "cell_type": "code",
   "execution_count": 55,
   "id": "d1e4ec45",
   "metadata": {},
   "outputs": [],
   "source": [
    "#del operator \n",
    "# based on the index\n",
    "# based on start:stop\n",
    "# based on start:stop:index"
   ]
  },
  {
   "cell_type": "code",
   "execution_count": 60,
   "id": "7e89618a",
   "metadata": {},
   "outputs": [],
   "source": [
    "a=[10,20,30,40]\n",
    "del a[1]"
   ]
  },
  {
   "cell_type": "code",
   "execution_count": 61,
   "id": "9f917da7",
   "metadata": {},
   "outputs": [
    {
     "name": "stdout",
     "output_type": "stream",
     "text": [
      "[10, 30, 40]\n"
     ]
    }
   ],
   "source": [
    "print(a)"
   ]
  },
  {
   "cell_type": "code",
   "execution_count": 62,
   "id": "eeec5231",
   "metadata": {},
   "outputs": [],
   "source": [
    "a.clear()"
   ]
  },
  {
   "cell_type": "code",
   "execution_count": 63,
   "id": "cdb9d66d",
   "metadata": {},
   "outputs": [
    {
     "name": "stdout",
     "output_type": "stream",
     "text": [
      "[] <class 'list'> 2142542148608\n"
     ]
    }
   ],
   "source": [
    "print(a,type(a),id(a))"
   ]
  },
  {
   "cell_type": "code",
   "execution_count": 70,
   "id": "5bdbcf99",
   "metadata": {},
   "outputs": [],
   "source": [
    "a=[10,30,40,50,60,\"rossum\",\"python\"]"
   ]
  },
  {
   "cell_type": "code",
   "execution_count": 71,
   "id": "897e26b4",
   "metadata": {},
   "outputs": [
    {
     "name": "stdout",
     "output_type": "stream",
     "text": [
      "[10, 30, 40, 50, 60, 'rossum'] <class 'list'> 2142542772864\n"
     ]
    }
   ],
   "source": [
    "a.pop()\n",
    "print(a,type(a),id(a))"
   ]
  },
  {
   "cell_type": "code",
   "execution_count": 72,
   "id": "e3c9607a",
   "metadata": {},
   "outputs": [
    {
     "name": "stdout",
     "output_type": "stream",
     "text": [
      "[10, 30, 40, 50, 60] <class 'list'> 2142542772864\n"
     ]
    }
   ],
   "source": [
    "a.pop()\n",
    "print(a,type(a),id(a))"
   ]
  },
  {
   "cell_type": "code",
   "execution_count": null,
   "id": "3129719b",
   "metadata": {},
   "outputs": [],
   "source": []
  }
 ],
 "metadata": {
  "kernelspec": {
   "display_name": "Python 3 (ipykernel)",
   "language": "python",
   "name": "python3"
  },
  "language_info": {
   "codemirror_mode": {
    "name": "ipython",
    "version": 3
   },
   "file_extension": ".py",
   "mimetype": "text/x-python",
   "name": "python",
   "nbconvert_exporter": "python",
   "pygments_lexer": "ipython3",
   "version": "3.9.12"
  }
 },
 "nbformat": 4,
 "nbformat_minor": 5
}
