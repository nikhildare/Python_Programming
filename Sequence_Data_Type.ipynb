{
 "cells": [
  {
   "cell_type": "code",
   "execution_count": 1,
   "id": "823c724f",
   "metadata": {},
   "outputs": [],
   "source": [
    "#sequence data types are of following types"
   ]
  },
  {
   "cell_type": "code",
   "execution_count": 2,
   "id": "ee2277ab",
   "metadata": {},
   "outputs": [],
   "source": [
    "#string\n",
    "#range\n",
    "#byte\n",
    "#bytearray"
   ]
  },
  {
   "cell_type": "code",
   "execution_count": 3,
   "id": "c1deb832",
   "metadata": {},
   "outputs": [],
   "source": [
    "#for string there is forward index and backward indexing"
   ]
  },
  {
   "cell_type": "code",
   "execution_count": 4,
   "id": "feb01fee",
   "metadata": {},
   "outputs": [],
   "source": [
    "#for string multiline assignment using single triple quotes and triple double quotes"
   ]
  },
  {
   "cell_type": "code",
   "execution_count": 5,
   "id": "17226fa4",
   "metadata": {},
   "outputs": [],
   "source": [
    "#string is one of the predefined class which is used to store sequence of characters symbols and special characters within the quotes"
   ]
  },
  {
   "cell_type": "code",
   "execution_count": 6,
   "id": "6fbf599b",
   "metadata": {},
   "outputs": [],
   "source": [
    "#there are various ways of indxing the strings"
   ]
  },
  {
   "cell_type": "code",
   "execution_count": 7,
   "id": "c34c3684",
   "metadata": {},
   "outputs": [
    {
     "data": {
      "text/plain": [
       "str"
      ]
     },
     "execution_count": 7,
     "metadata": {},
     "output_type": "execute_result"
    }
   ],
   "source": [
    "s=\"Python is an OOP language\"\n",
    "\n",
    "type(s)"
   ]
  },
  {
   "cell_type": "code",
   "execution_count": 9,
   "id": "7dc0bd3f",
   "metadata": {},
   "outputs": [
    {
     "name": "stdout",
     "output_type": "stream",
     "text": [
      "Python is an OOP language\n"
     ]
    }
   ],
   "source": [
    "print(s[::])"
   ]
  },
  {
   "cell_type": "code",
   "execution_count": 10,
   "id": "30c5241e",
   "metadata": {},
   "outputs": [
    {
     "name": "stdout",
     "output_type": "stream",
     "text": [
      "eaga O as otP\n"
     ]
    }
   ],
   "source": [
    "print(s[::-2])"
   ]
  },
  {
   "cell_type": "code",
   "execution_count": 11,
   "id": "35227a0c",
   "metadata": {},
   "outputs": [
    {
     "name": "stdout",
     "output_type": "stream",
     "text": [
      "Pytho\n"
     ]
    }
   ],
   "source": [
    "print(s[:5])"
   ]
  },
  {
   "cell_type": "code",
   "execution_count": 12,
   "id": "1e158a33",
   "metadata": {},
   "outputs": [
    {
     "name": "stdout",
     "output_type": "stream",
     "text": [
      "ytho\n"
     ]
    }
   ],
   "source": [
    "print(s[1:5])"
   ]
  },
  {
   "cell_type": "code",
   "execution_count": 14,
   "id": "5c26ec74",
   "metadata": {},
   "outputs": [
    {
     "name": "stdout",
     "output_type": "stream",
     "text": [
      "Python is an OOP language\n"
     ]
    }
   ],
   "source": [
    "print(s[:])"
   ]
  },
  {
   "cell_type": "code",
   "execution_count": 15,
   "id": "b1769ccb",
   "metadata": {},
   "outputs": [],
   "source": [
    "#when we deal with string data type it will always print end-1 if end is specified"
   ]
  },
  {
   "cell_type": "code",
   "execution_count": 16,
   "id": "14848a9a",
   "metadata": {},
   "outputs": [],
   "source": [
    "#start:end  start<end forward indexing step is +ve\n",
    "#start:end  start>end and step is always +ve\n",
    "\n",
    "#when we have -ve step then it will take end+1\n",
    "\n"
   ]
  },
  {
   "cell_type": "code",
   "execution_count": 17,
   "id": "6df6ec5b",
   "metadata": {},
   "outputs": [],
   "source": [
    "s=\"Python\""
   ]
  },
  {
   "cell_type": "code",
   "execution_count": 18,
   "id": "6f7cd73e",
   "metadata": {},
   "outputs": [
    {
     "data": {
      "text/plain": [
       "'nohty'"
      ]
     },
     "execution_count": 18,
     "metadata": {},
     "output_type": "execute_result"
    }
   ],
   "source": [
    "s[-1:-6:-1]"
   ]
  },
  {
   "cell_type": "code",
   "execution_count": 19,
   "id": "f3d4bd92",
   "metadata": {},
   "outputs": [
    {
     "data": {
      "text/plain": [
       "True"
      ]
     },
     "execution_count": 19,
     "metadata": {},
     "output_type": "execute_result"
    }
   ],
   "source": [
    "\"MADAM\"==\"MADAM\"[::-1]"
   ]
  },
  {
   "cell_type": "code",
   "execution_count": 21,
   "id": "95c29f3b",
   "metadata": {},
   "outputs": [
    {
     "name": "stdout",
     "output_type": "stream",
     "text": [
      "0\n",
      "1\n",
      "2\n",
      "3\n",
      "4\n",
      "5\n",
      "6\n",
      "7\n",
      "8\n",
      "9\n"
     ]
    }
   ],
   "source": [
    "#range data type\n",
    "a=range(10)\n",
    "\n",
    "for i in a:\n",
    "    print(i)"
   ]
  },
  {
   "cell_type": "code",
   "execution_count": 25,
   "id": "a3d96894",
   "metadata": {},
   "outputs": [
    {
     "name": "stdout",
     "output_type": "stream",
     "text": [
      "10\n",
      "9\n",
      "8\n",
      "7\n",
      "6\n",
      "5\n",
      "4\n",
      "3\n",
      "2\n"
     ]
    }
   ],
   "source": [
    "a=range(10,1,-1)\n",
    "\n",
    "for i in a:\n",
    "    print(i)"
   ]
  },
  {
   "cell_type": "code",
   "execution_count": 38,
   "id": "786e2986",
   "metadata": {},
   "outputs": [
    {
     "name": "stdout",
     "output_type": "stream",
     "text": [
      "15\n",
      "20\n",
      "25\n",
      "30\n",
      "35\n",
      "40\n",
      "45\n",
      "50\n",
      "55\n",
      "60\n",
      "65\n",
      "70\n",
      "75\n",
      "80\n",
      "85\n",
      "90\n",
      "95\n",
      "100\n"
     ]
    }
   ],
   "source": [
    "a=range(100,11,-5)[::-1]\n",
    "for val in a:\n",
    "    print(val)"
   ]
  },
  {
   "cell_type": "code",
   "execution_count": 39,
   "id": "d977d77c",
   "metadata": {},
   "outputs": [],
   "source": [
    "#to print the table of your choice\n",
    "\n",
    "#lets say you have n=21\n",
    "\n"
   ]
  },
  {
   "cell_type": "code",
   "execution_count": 40,
   "id": "077a8d22",
   "metadata": {},
   "outputs": [
    {
     "name": "stdout",
     "output_type": "stream",
     "text": [
      "21 * 1 21\n",
      "21 * 2 42\n",
      "21 * 3 63\n",
      "21 * 4 84\n",
      "21 * 5 105\n",
      "21 * 6 126\n",
      "21 * 7 147\n",
      "21 * 8 168\n",
      "21 * 9 189\n",
      "21 * 10 210\n"
     ]
    }
   ],
   "source": [
    "n=21\n",
    "for i in range(1,11,1):\n",
    "    print(n,\"*\",i,n*i)"
   ]
  },
  {
   "cell_type": "code",
   "execution_count": 42,
   "id": "9a84e8c8",
   "metadata": {},
   "outputs": [],
   "source": [
    "#bytes\n",
    "\n",
    "#predefined class in the python data type\n",
    "#support indexing and slicing\n",
    "#item assignment is not allowed\n",
    "#should have values in the range of 0 to 256 \n",
    "#range(0 to 255)"
   ]
  },
  {
   "cell_type": "code",
   "execution_count": 43,
   "id": "6bda66f1",
   "metadata": {},
   "outputs": [],
   "source": [
    "a=[10,20,30]"
   ]
  },
  {
   "cell_type": "code",
   "execution_count": 50,
   "id": "cad66260",
   "metadata": {},
   "outputs": [
    {
     "name": "stdout",
     "output_type": "stream",
     "text": [
      "b'\\n\\x14\\x1e'\n",
      "10\n",
      "20\n",
      "30\n"
     ]
    }
   ],
   "source": [
    "val=bytes(a)\n",
    "print(val,end=\"\\n\")\n",
    "for i in val:\n",
    "    print(i)"
   ]
  },
  {
   "cell_type": "code",
   "execution_count": 51,
   "id": "d4afb122",
   "metadata": {},
   "outputs": [],
   "source": [
    "#bytearray\n",
    "\n",
    "#predefined class in python\n",
    "\n",
    "#indexing and slicing allowed and support item assignment\n",
    "#belongs to mutable object"
   ]
  },
  {
   "cell_type": "code",
   "execution_count": 52,
   "id": "5b1fefdc",
   "metadata": {},
   "outputs": [],
   "source": [
    "a=[10,20,30,40,50]"
   ]
  },
  {
   "cell_type": "code",
   "execution_count": 53,
   "id": "4bb791b9",
   "metadata": {},
   "outputs": [],
   "source": [
    "b=bytearray(a)"
   ]
  },
  {
   "cell_type": "code",
   "execution_count": 54,
   "id": "ff20742d",
   "metadata": {},
   "outputs": [
    {
     "name": "stdout",
     "output_type": "stream",
     "text": [
      "bytearray(b'\\n\\x14\\x1e(2')\n"
     ]
    }
   ],
   "source": [
    "print(b)"
   ]
  },
  {
   "cell_type": "code",
   "execution_count": 55,
   "id": "ed133b5c",
   "metadata": {},
   "outputs": [
    {
     "name": "stdout",
     "output_type": "stream",
     "text": [
      "10\n",
      "20\n",
      "30\n",
      "40\n",
      "50\n"
     ]
    }
   ],
   "source": [
    "for val in b:\n",
    "    print(val)"
   ]
  },
  {
   "cell_type": "code",
   "execution_count": 56,
   "id": "fa7f393b",
   "metadata": {},
   "outputs": [],
   "source": [
    "b[0]=200"
   ]
  },
  {
   "cell_type": "code",
   "execution_count": 62,
   "id": "aa2b4803",
   "metadata": {},
   "outputs": [
    {
     "name": "stdout",
     "output_type": "stream",
     "text": [
      "[10, 20, 30]\n",
      "bytearray(b'\\x00\\x00\\x00\\x00\\x00\\x00\\x00\\x00\\x00\\x00')\n",
      "[10, 20, 30]\n",
      "bytearray(b'\\x00\\x00\\x00\\x00\\x00\\x00\\x00\\x00\\x00\\x00\\x00\\x00\\x00\\x00\\x00\\x00\\x00\\x00\\x00\\x00')\n",
      "[10, 20, 30]\n",
      "bytearray(b'\\x00\\x00\\x00\\x00\\x00\\x00\\x00\\x00\\x00\\x00\\x00\\x00\\x00\\x00\\x00\\x00\\x00\\x00\\x00\\x00\\x00\\x00\\x00\\x00\\x00\\x00\\x00\\x00\\x00\\x00')\n"
     ]
    }
   ],
   "source": [
    "b=[10,20,30]\n",
    "for val in b:\n",
    "    print(b)\n",
    "    print(bytearray(val))"
   ]
  },
  {
   "cell_type": "code",
   "execution_count": null,
   "id": "196c9946",
   "metadata": {},
   "outputs": [],
   "source": []
  }
 ],
 "metadata": {
  "kernelspec": {
   "display_name": "Python 3 (ipykernel)",
   "language": "python",
   "name": "python3"
  },
  "language_info": {
   "codemirror_mode": {
    "name": "ipython",
    "version": 3
   },
   "file_extension": ".py",
   "mimetype": "text/x-python",
   "name": "python",
   "nbconvert_exporter": "python",
   "pygments_lexer": "ipython3",
   "version": "3.9.12"
  }
 },
 "nbformat": 4,
 "nbformat_minor": 5
}
