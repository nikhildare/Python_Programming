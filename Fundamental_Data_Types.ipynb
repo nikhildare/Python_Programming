{
 "cells": [
  {
   "cell_type": "code",
   "execution_count": 1,
   "id": "ac6e1223",
   "metadata": {},
   "outputs": [],
   "source": [
    "# Data types in python programming language"
   ]
  },
  {
   "cell_type": "code",
   "execution_count": 2,
   "id": "9b57eb95",
   "metadata": {},
   "outputs": [],
   "source": [
    "#There are total 14 data types in python"
   ]
  },
  {
   "cell_type": "code",
   "execution_count": 5,
   "id": "097fa8a1",
   "metadata": {},
   "outputs": [
    {
     "data": {
      "text/plain": [
       "True"
      ]
     },
     "execution_count": 5,
     "metadata": {},
     "output_type": "execute_result"
    }
   ],
   "source": [
    "#Category1 \n",
    "# Fundamental data types\n",
    "\n",
    "#int\n",
    "a=10;\n",
    "a\n",
    "#float\n",
    "b=10.0\n",
    "b\n",
    "#compelx\n",
    "c=1+2j;\n",
    "c\n",
    "#bool\n",
    "d=True\n",
    "bool(d)\n",
    "\n",
    "# Predefine class and treated as fundamental data types which takes values as\n",
    "#logical forms"
   ]
  },
  {
   "cell_type": "code",
   "execution_count": 7,
   "id": "300bb14a",
   "metadata": {},
   "outputs": [],
   "source": [
    "b=True+True"
   ]
  },
  {
   "cell_type": "code",
   "execution_count": 8,
   "id": "2c19bc29",
   "metadata": {},
   "outputs": [
    {
     "data": {
      "text/plain": [
       "2"
      ]
     },
     "execution_count": 8,
     "metadata": {},
     "output_type": "execute_result"
    }
   ],
   "source": [
    "b"
   ]
  },
  {
   "cell_type": "code",
   "execution_count": 9,
   "id": "716af379",
   "metadata": {},
   "outputs": [],
   "source": [
    "a=3+2j"
   ]
  },
  {
   "cell_type": "code",
   "execution_count": 10,
   "id": "fa9672d9",
   "metadata": {},
   "outputs": [
    {
     "data": {
      "text/plain": [
       "3.0"
      ]
     },
     "execution_count": 10,
     "metadata": {},
     "output_type": "execute_result"
    }
   ],
   "source": [
    "a.real"
   ]
  },
  {
   "cell_type": "code",
   "execution_count": 11,
   "id": "94633b83",
   "metadata": {},
   "outputs": [
    {
     "data": {
      "text/plain": [
       "2.0"
      ]
     },
     "execution_count": 11,
     "metadata": {},
     "output_type": "execute_result"
    }
   ],
   "source": [
    "a.imag"
   ]
  },
  {
   "cell_type": "code",
   "execution_count": 12,
   "id": "dfe8ba43",
   "metadata": {},
   "outputs": [],
   "source": [
    "#by default Python takes float as data type"
   ]
  },
  {
   "cell_type": "code",
   "execution_count": 13,
   "id": "32d32b79",
   "metadata": {},
   "outputs": [
    {
     "ename": "SyntaxError",
     "evalue": "invalid syntax (4013307200.py, line 2)",
     "output_type": "error",
     "traceback": [
      "\u001b[1;36m  Input \u001b[1;32mIn [13]\u001b[1;36m\u001b[0m\n\u001b[1;33m    to binary or octal or hexadecimal\u001b[0m\n\u001b[1;37m       ^\u001b[0m\n\u001b[1;31mSyntaxError\u001b[0m\u001b[1;31m:\u001b[0m invalid syntax\n"
     ]
    }
   ],
   "source": [
    "#Fundamentally the integer number systems can be converted from decimal number\n",
    "to binary or octal or hexadecimal\n",
    "\n",
    "#it must be followed by \n",
    "\n",
    "#0b or 0B  binary     #base is 2 for binary #1010=0*2^0+1*2^1+0*2^2+1*2^3\n",
    "#0o or 0O  octal      #Base is 8 for octal 105= 5*8^0+0*8^1+1*8^2 \n",
    "#0X pr 0x  hexadecimal #hexadecimal stands for 16 as base\n",
    "\n",
    "#0 1 2 3 4 5 6 7 8 9\n",
    "#A B C D E F\n",
    "\n",
    "#Total 16 characters are present in this number system"
   ]
  },
  {
   "cell_type": "code",
   "execution_count": null,
   "id": "fca7d91e",
   "metadata": {},
   "outputs": [],
   "source": [
    "# Always remeber that when we take 0 as starting digit must be used with b B o O \n",
    "# X x otherwise gives invalid literal type of conversion binary octal or hexadecimal \n",
    "# system"
   ]
  }
 ],
 "metadata": {
  "kernelspec": {
   "display_name": "Python 3 (ipykernel)",
   "language": "python",
   "name": "python3"
  },
  "language_info": {
   "codemirror_mode": {
    "name": "ipython",
    "version": 3
   },
   "file_extension": ".py",
   "mimetype": "text/x-python",
   "name": "python",
   "nbconvert_exporter": "python",
   "pygments_lexer": "ipython3",
   "version": "3.9.12"
  }
 },
 "nbformat": 4,
 "nbformat_minor": 5
}
