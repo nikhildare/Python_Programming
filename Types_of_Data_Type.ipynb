{
 "cells": [
  {
   "cell_type": "code",
   "execution_count": 1,
   "id": "26e7a356",
   "metadata": {},
   "outputs": [],
   "source": [
    "#14 data types\n",
    "\n"
   ]
  },
  {
   "cell_type": "code",
   "execution_count": 2,
   "id": "7f051ce2",
   "metadata": {},
   "outputs": [
    {
     "data": {
      "text/plain": [
       "complex"
      ]
     },
     "execution_count": 2,
     "metadata": {},
     "output_type": "execute_result"
    }
   ],
   "source": [
    "#Fundamental\n",
    "\n",
    "int \n",
    "float\n",
    "bool\n",
    "complex"
   ]
  },
  {
   "cell_type": "code",
   "execution_count": 3,
   "id": "36fbaf2a",
   "metadata": {},
   "outputs": [],
   "source": [
    "#list category\n",
    "\n",
    "#list\n",
    "#tuple"
   ]
  },
  {
   "cell_type": "code",
   "execution_count": 4,
   "id": "7b314504",
   "metadata": {},
   "outputs": [],
   "source": [
    "#sequential data type"
   ]
  },
  {
   "cell_type": "code",
   "execution_count": 5,
   "id": "1c8646d1",
   "metadata": {},
   "outputs": [],
   "source": [
    "#byte\n",
    "#bytearray\n",
    "#str\n",
    "#range"
   ]
  },
  {
   "cell_type": "code",
   "execution_count": null,
   "id": "244d49aa",
   "metadata": {},
   "outputs": [],
   "source": [
    "D"
   ]
  }
 ],
 "metadata": {
  "kernelspec": {
   "display_name": "Python 3 (ipykernel)",
   "language": "python",
   "name": "python3"
  },
  "language_info": {
   "codemirror_mode": {
    "name": "ipython",
    "version": 3
   },
   "file_extension": ".py",
   "mimetype": "text/x-python",
   "name": "python",
   "nbconvert_exporter": "python",
   "pygments_lexer": "ipython3",
   "version": "3.9.12"
  }
 },
 "nbformat": 4,
 "nbformat_minor": 5
}
